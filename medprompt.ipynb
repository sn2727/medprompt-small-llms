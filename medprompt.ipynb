{
 "cells": [
  {
   "cell_type": "code",
   "execution_count": 91,
   "metadata": {},
   "outputs": [
    {
     "name": "stdout",
     "output_type": "stream",
     "text": [
      "The token has not been saved to the git credentials helper. Pass `add_to_git_credential=True` in this function directly or `--add-to-git-credential` if using via `huggingface-cli` if you want to set the git credential as well.\n",
      "Token is valid (permission: read).\n",
      "Your token has been saved to /home/sr100@hsg.privat/.cache/huggingface/token\n",
      "Login successful\n",
      "Using cuda\n"
     ]
    }
   ],
   "source": [
    "from datasets import load_dataset\n",
    "from transformers import AutoTokenizer, AutoModelForCausalLM\n",
    "import torch\n",
    "from tqdm import tqdm\n",
    "from sentence_transformers import SentenceTransformer\n",
    "import numpy as np\n",
    "from sklearn.metrics.pairwise import cosine_similarity\n",
    "import re \n",
    "\n",
    "# needed for access to Llama tokenizer\n",
    "from huggingface_hub import login\n",
    "login(token=\"INSERT TOKEN\")\n",
    "\n",
    "device = 'cuda' if torch.cuda.is_available() else 'cpu'\n",
    "print(f\"Using {device}\")"
   ]
  },
  {
   "cell_type": "code",
   "execution_count": 2,
   "metadata": {},
   "outputs": [
    {
     "name": "stdout",
     "output_type": "stream",
     "text": [
      "Dataset has 10178 questions\n",
      "{'question': 'A 23-year-old pregnant woman at 22 weeks gestation presents with burning upon urination. She states it started 1 day ago and has been worsening despite drinking more water and taking cranberry extract. She otherwise feels well and is followed by a doctor for her pregnancy. Her temperature is 97.7°F (36.5°C), blood pressure is 122/77 mmHg, pulse is 80/min, respirations are 19/min, and oxygen saturation is 98% on room air. Physical exam is notable for an absence of costovertebral angle tenderness and a gravid uterus. Which of the following is the best treatment for this patient?', 'answer': 'Nitrofurantoin', 'options': {'A': 'Ampicillin', 'B': 'Ceftriaxone', 'C': 'Doxycycline', 'D': 'Nitrofurantoin'}, 'meta_info': 'step2&3', 'answer_idx': 'D', 'metamap_phrases': ['23 year old pregnant woman', 'weeks presents', 'burning', 'urination', 'states', 'started 1 day', 'worsening', 'drinking', 'water', 'taking cranberry extract', 'feels well', 'followed by', 'doctor', 'pregnancy', 'temperature', '97', '36', 'blood pressure', 'mmHg', 'pulse', '80 min', 'respirations', 'min', 'oxygen saturation', '98', 'room air', 'Physical exam', 'notable', 'absence', 'costovertebral angle tenderness', 'gravid uterus', 'following', 'best treatment', 'patient']}\n",
      "{'question': 'A 3-month-old baby died suddenly at night while asleep. His mother noticed that he had died only after she awoke in the morning. No cause of death was determined based on the autopsy. Which of the following precautions could have prevented the death of the baby?', 'answer': 'Placing the infant in a supine position on a firm mattress while sleeping', 'options': {'A': 'Placing the infant in a supine position on a firm mattress while sleeping', 'B': 'Keeping the infant covered and maintaining a high room temperature', 'C': 'Application of a device to maintain the sleeping position', 'D': 'Avoiding pacifier use during sleep'}, 'meta_info': 'step2&3', 'answer_idx': 'A', 'metamap_phrases': ['3 month old baby died', 'night', 'asleep', 'mother', 'died only', 'awoke in', 'morning', 'cause of death', 'based', 'autopsy', 'following precautions', 'prevented', 'death', 'baby']}\n",
      "{'question': \"A mother brings her 3-week-old infant to the pediatrician's office because she is concerned about his feeding habits. He was born without complications and has not had any medical problems up until this time. However, for the past 4 days, he has been fussy, is regurgitating all of his feeds, and his vomit is yellow in color. On physical exam, the child's abdomen is minimally distended but no other abnormalities are appreciated. Which of the following embryologic errors could account for this presentation?\", 'answer': 'Abnormal migration of ventral pancreatic bud', 'options': {'A': 'Abnormal migration of ventral pancreatic bud', 'B': 'Complete failure of proximal duodenum to recanalize', 'C': 'Abnormal hypertrophy of the pylorus', 'D': 'Failure of lateral body folds to move ventrally and fuse in the midline'}, 'meta_info': 'step1', 'answer_idx': 'A', 'metamap_phrases': ['mother', 'week old infant', \"pediatrician's office\", 'concerned', 'feeding habits', 'born', 'complications', 'not', 'medical problems', 'time', 'past', 'days', 'fussy', 'regurgitating', 'feeds', 'vomit', 'yellow', 'color', 'physical exam', \"child's abdomen\", 'distended', 'abnormalities', 'following embryologic errors', 'account', 'presentation']}\n"
     ]
    }
   ],
   "source": [
    "# Load usmle MedQA dataset\n",
    "train_dataset = load_dataset(\"GBaker/MedQA-USMLE-4-options\", split=\"train\")\n",
    "\n",
    "print(f\"Dataset has {len(train_dataset)} questions\") # has 'question', 'answer' as x, and 'options{'A': x, 'B': y, 'C': z, 'D': v} and 'answer_idx' is 'A'\n",
    "print(train_dataset[0])\n",
    "print(train_dataset[1])\n",
    "print(train_dataset[2])"
   ]
  },
  {
   "cell_type": "code",
   "execution_count": 3,
   "metadata": {},
   "outputs": [
    {
     "name": "stdout",
     "output_type": "stream",
     "text": [
      "Encoded 10178 questions\n",
      "Encoding dimension: (1024,)\n"
     ]
    }
   ],
   "source": [
    "# chunk long texts to 300 words to roughly match context length of embedding model\n",
    "def chunk_text(text, max_length=300):\n",
    "    words = text.split()\n",
    "    chunks = []\n",
    "    current_chunk = []\n",
    "    current_length = 0\n",
    "\n",
    "    for word in words:\n",
    "        if current_length + len(word) + 1 > max_length:\n",
    "            chunks.append(\" \".join(current_chunk))\n",
    "            current_chunk = [word]\n",
    "            current_length = len(word)\n",
    "        else:\n",
    "            current_chunk.append(word)\n",
    "            current_length += len(word) + 1\n",
    "\n",
    "    if current_chunk:\n",
    "        chunks.append(\" \".join(current_chunk))\n",
    "\n",
    "    return chunks\n",
    "\n",
    "def encode_questions(dataset, model, device):\n",
    "    encoded_questions = []\n",
    "    \n",
    "    for item in dataset:\n",
    "        question = item['question']\n",
    "        chunks = chunk_text(question)\n",
    "        chunk_embeddings = []\n",
    "        \n",
    "        for chunk in chunks:\n",
    "            embedding = model.encode(chunk, convert_to_tensor=True).to(device)\n",
    "            chunk_embeddings.append(embedding)\n",
    "        \n",
    "        if len(chunk_embeddings) > 1:\n",
    "            question_embedding = torch.mean(torch.stack(chunk_embeddings), dim=0)\n",
    "        else:\n",
    "            question_embedding = chunk_embeddings[0]\n",
    "        \n",
    "        encoded_questions.append(question_embedding.cpu().numpy())\n",
    "    \n",
    "    return encoded_questions\n",
    "\n",
    "# Load the embedding model\n",
    "embedding_model = SentenceTransformer('thenlper/gte-large')\n",
    "embedding_model.to(device)\n",
    "\n",
    "# Encode train and test questions\n",
    "train_encodings = encode_questions(train_dataset, embedding_model, device)\n",
    "\n",
    "print(f\"Encoded {len(train_encodings)} questions\")\n",
    "print(f\"Encoding dimension: {train_encodings[0].shape}\")\n",
    "\n",
    "np.save('train_encodings.npy', np.array(train_encodings))"
   ]
  },
  {
   "cell_type": "code",
   "execution_count": 3,
   "metadata": {},
   "outputs": [],
   "source": [
    "question_embeddings = np.load('train_encodings.npy')\n",
    "question_similarities = cosine_similarity(question_embeddings, question_embeddings)"
   ]
  },
  {
   "cell_type": "code",
   "execution_count": 80,
   "metadata": {},
   "outputs": [
    {
     "name": "stderr",
     "output_type": "stream",
     "text": [
      "Loading checkpoint shards: 100%|██████████| 2/2 [00:01<00:00,  1.58it/s]\n"
     ]
    }
   ],
   "source": [
    "def load_model(model_name):\n",
    "    tokenizer = AutoTokenizer.from_pretrained(model_name, trust_remote_code=True)\n",
    "    model = AutoModelForCausalLM.from_pretrained(model_name, trust_remote_code=True)\n",
    "    return tokenizer, model\n",
    "\n",
    "# Define model\n",
    "#model_name = \"microsoft/Phi-3-mini-128k-instruct\"\n",
    "#model_name = \"TinyLlama/TinyLlama-1.1B-Chat-v0.1\"\n",
    "model_name = \"google/gemma-2-2b-it\"\n",
    "#model_name = \"HuggingFaceTB/SmolLM-1.7B-Instruct\"\n",
    "\n",
    "tokenizer, model = load_model(model_name)\n",
    "\n",
    "# Uncomment to use OpenELM\n",
    "#tokenizer = AutoTokenizer.from_pretrained(\"meta-llama/Llama-2-7b-chat-hf\", trust_remote_code=True)\n",
    "#model = AutoModelForCausalLM.from_pretrained(\"apple/OpenELM-3B\", trust_remote_code=True)"
   ]
  },
  {
   "cell_type": "code",
   "execution_count": 50,
   "metadata": {},
   "outputs": [],
   "source": [
    "def dynamic_few_shot_prompt(question, choices, question_index, k=5):\n",
    "    prompt = ''\n",
    "    nearest_indices = []\n",
    "    if k > 0:\n",
    "        similarities = question_similarities[question_index]\n",
    "        similarities[question_index] = -1\n",
    "        nearest_indices = np.argsort(similarities)[-k:][::-1]\n",
    "\n",
    "    #prompt = \"You are a medical assistant and have to answer medical questions.\\n\\n\"\n",
    "    prompt=''\n",
    "\n",
    "    for idx in nearest_indices:\n",
    "        example = train_dataset[int(idx)]\n",
    "        prompt += f\"\"\"\\n {example['question']} \\n \n",
    "              A. {example['options']['A']}\n",
    "              B. {example['options']['B']}\n",
    "              C. {example['options']['C']}\n",
    "              D. {example['options']['D']} \\n \n",
    "              Think step by step, explain your answer and then provide the correct answer letter. Make sure to first provide the correct answer letter: {example['answer_idx']}\\n Explanation: ... \\n\n",
    "        \"\"\"\n",
    "    prompt += f\"\"\"\n",
    "             \\n {question} \\n\\n\n",
    "              A. {choices[0]} \\n\n",
    "              B. {choices[1]} \\n\n",
    "              C. {choices[2]} \\n\n",
    "              D. {choices[3]} \\n \n",
    "              Think step by step, explain your answer and then provide the correct answer letter. Make sure to first provide the correct answer letter:\n",
    "    \"\"\"\n",
    "    return prompt\n",
    "\n",
    "def create_simple_prompt(question, choices):\n",
    "    prompt = f\"\"\"\n",
    "              \\n {question} \\n \n",
    "              A. {choices[0]}\n",
    "              B. {choices[1]}\n",
    "              C. {choices[2]}\n",
    "              D. {choices[3]} \\n \n",
    "              Answer only with the correct letter. The correct answer letter is:\n",
    "    \"\"\"\n",
    "    return prompt\n",
    "\n",
    "# Answer a question\n",
    "def answer_multiple_choice(model, tokenizer, question, choices, question_index):\n",
    "    if PROMPTING_STRAT == 'simple':\n",
    "        prompt = create_simple_prompt(question, choices)\n",
    "    if PROMPTING_STRAT == 'dfs':\n",
    "        prompt = dynamic_few_shot_prompt(question, choices, question_index, k=K)\n",
    "\n",
    "    predicted_answers = []\n",
    "    inputs = tokenizer(prompt, return_tensors=\"pt\").to(device)\n",
    "\n",
    "    for n in range(N_ENSEMBLE):\n",
    "        with torch.no_grad():\n",
    "            output_ids = model.generate(\n",
    "                inputs['input_ids'],\n",
    "                max_new_tokens=500,  \n",
    "                pad_token_id=0,\n",
    "                num_return_sequences=1,\n",
    "                do_sample=True,\n",
    "                temperature=0.7,\n",
    "                top_k=50,\n",
    "                top_p=0.95,\n",
    "                no_repeat_ngram_size=3,\n",
    "            )\n",
    "\n",
    "        generated_text = tokenizer.decode(output_ids[0], skip_special_tokens=True)\n",
    "        answer_part = generated_text.split(prompt[-25:])[-1]\n",
    "\n",
    "        # Extract the first letter from the answer part\n",
    "        #predicted_answer = answer_part[0] if answer_part else \"\"\n",
    "        matches = re.findall(r'\\b([ABCD])\\.?\\b', answer_part, re.IGNORECASE)\n",
    "\n",
    "        if matches:\n",
    "            predicted_answer_letter = matches[0].upper()\n",
    "        else: \n",
    "            predicted_answer_letter = 'X'\n",
    "        if predicted_answer_letter not in ['A', 'B', 'C', 'D']:\n",
    "            # If it's not a valid letter, default to 'X'\n",
    "            predicted_answer_letter = 'X' # wrong answer\n",
    "        \n",
    "        predicted_answers.append(predicted_answer_letter)\n",
    "\n",
    "    return predicted_answers"
   ]
  },
  {
   "cell_type": "code",
   "execution_count": 51,
   "metadata": {},
   "outputs": [],
   "source": [
    "def evaluate_model(model, tokenizer, dataset):\n",
    "    correct = 0\n",
    "    total = 0\n",
    "    question_index = 0\n",
    "    invalid = 0\n",
    "\n",
    "    model.to(device)\n",
    "\n",
    "    progress_bar = tqdm(dataset, desc=\"Evaluating\")\n",
    "    for example in progress_bar:\n",
    "        question = example['question']\n",
    "        choices = [example['options']['A'], example['options']['B'], example['options']['C'], example['options']['D']]\n",
    "        \n",
    "        # both uppercase\n",
    "        correct_answer_letter = example['answer_idx'].upper()  # 'A/B/C/D'\n",
    "        predicted_answer_letters = answer_multiple_choice(model, tokenizer, question, choices, question_index)\n",
    "        predicted_answer_letter = max(set(predicted_answer_letters), key=predicted_answer_letters.count)\n",
    "\n",
    "        if predicted_answer_letter == correct_answer_letter:\n",
    "            correct += 1\n",
    "        if predicted_answer_letter == 'X':\n",
    "            invalid += 1\n",
    "        total += 1\n",
    "        question_index += 1\n",
    "        progress_bar.set_postfix({\"Correct\": f\"{correct}/{total}\", \"Invalid\": f\"{invalid}/{total}\", \"Current Answer\": predicted_answer_letter})\n",
    "\n",
    "    accuracy = correct / total\n",
    "    return accuracy"
   ]
  },
  {
   "cell_type": "code",
   "execution_count": 81,
   "metadata": {},
   "outputs": [
    {
     "name": "stderr",
     "output_type": "stream",
     "text": [
      "Evaluating: 100%|██████████| 100/100 [19:52<00:00, 11.93s/it, Correct=48/100, Invalid=0/100, Current Answer=C]"
     ]
    },
    {
     "name": "stdout",
     "output_type": "stream",
     "text": [
      "Accuracy: 48.00%\n"
     ]
    },
    {
     "name": "stderr",
     "output_type": "stream",
     "text": [
      "\n"
     ]
    }
   ],
   "source": [
    "PROMPTING_STRAT = 'dfs'  # simple or k dynamic few shot (dfs) \n",
    "K = 0 # if using dfs how many examples for in-context-learning \n",
    "N_ENSEMBLE = 1 # how many text generations to run, most frequent answer is used\n",
    "accuracy = evaluate_model(model, tokenizer, train_dataset.select(range(100)))\n",
    "print(f\"Accuracy: {accuracy:.2%}\")"
   ]
  },
  {
   "cell_type": "code",
   "execution_count": 89,
   "metadata": {},
   "outputs": [
    {
     "data": {
      "image/png": "[encoded data removed]",
      "text/plain": [
       "<Figure size 1000x800 with 1 Axes>"
      ]
     },
     "metadata": {},
     "output_type": "display_data"
    }
   ],
   "source": [
    "# Visualize results\n",
    "import matplotlib.pyplot as plt\n",
    "\n",
    "model_names = ['open-elm', 'smolLM', 'TinyLlama', 'gemma-2', 'phi-3']\n",
    "accuracies = [25, 32, 35, 43, 55]\n",
    "accuracies_medprompt = [27, 34, 39, 51, 64]\n",
    "\n",
    "plt.figure(figsize=(10, 8))\n",
    "\n",
    "for i in range(len(model_names)):\n",
    "    plt.plot(model_names[i], accuracies[i], 's', color='grey', label=f'Simple Prompting' if i == 0 else \"\")\n",
    "    plt.plot([model_names[i], model_names[i]], [accuracies[i], accuracies_medprompt[i]], linestyle='--', color='gray')\n",
    "    plt.plot(model_names[i], accuracies_medprompt[i], 'bs', label=f'MedPrompt' if i == 0 else \"\")\n",
    "\n",
    "# Customizing the plot\n",
    "plt.xlabel('Model Names')\n",
    "plt.ylabel('Accuracy')\n",
    "plt.title('Accuracies of Models on MedQA with and without MedPrompt')\n",
    "plt.legend()\n",
    "plt.grid(True)\n",
    "plt.ylim(20, 80)\n",
    "plt.savefig('result.png')\n",
    "# Show plot\n",
    "plt.show()\n"
   ]
  }
 ],
 "metadata": {
  "kernelspec": {
   "display_name": ".venv",
   "language": "python",
   "name": "python3"
  },
  "language_info": {
   "codemirror_mode": {
    "name": "ipython",
    "version": 3
   },
   "file_extension": ".py",
   "mimetype": "text/x-python",
   "name": "python",
   "nbconvert_exporter": "python",
   "pygments_lexer": "ipython3",
   "version": "3.10.12"
  }
 },
 "nbformat": 4,
 "nbformat_minor": 2
}
