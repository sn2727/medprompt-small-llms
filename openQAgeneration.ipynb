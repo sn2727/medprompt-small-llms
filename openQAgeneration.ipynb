{
 "cells": [
  {
   "cell_type": "code",
   "execution_count": 15,
   "metadata": {},
   "outputs": [
    {
     "name": "stdout",
     "output_type": "stream",
     "text": [
      "Using cuda\n"
     ]
    }
   ],
   "source": [
    "from datasets import load_dataset\n",
    "from transformers import AutoTokenizer, AutoModelForCausalLM\n",
    "import torch\n",
    "\n",
    "device = 'cuda' if torch.cuda.is_available() else 'cpu'\n",
    "print(f\"Using {device}\")"
   ]
  },
  {
   "cell_type": "code",
   "execution_count": 3,
   "metadata": {},
   "outputs": [],
   "source": [
    "# open questions from patients\n",
    "# dataset contains inputs and outputs from a medical chatbot \n",
    "# might be useful for finetuning\n",
    "dataset = load_dataset(\"Malikeh1375/medical-question-answering-datasets\", \"all-processed\")"
   ]
  },
  {
   "cell_type": "code",
   "execution_count": 4,
   "metadata": {},
   "outputs": [
    {
     "name": "stdout",
     "output_type": "stream",
     "text": [
      "PROMPT: \n",
      " If you are a doctor, please answer the medical questions based on the patient's description. Hey Just wondering.  I am a 39 year old female, pretty smallMy heart rate is around 97 to 106 at rest, and my BP is 140/90 and twice I get 175/118I did visit a doctor because I  didnt feel well past month or twoThen the doctor gave me a heart medicine to take the pulse down and BP  (its still in further examination.)But I wondering what it can be? Do I need the medicine really?  Is that bad ?\n",
      "ANSWER: \n",
      " hello and thank you for using chatbot. i carefully read your question and i understand your concern. i will try to explain you something and give you my opinion. we talk about hypertension if we have mean value that exceeds 140 / 90 mmhg. a person might have high value during emotional and physicals trees so it's mandatory to judge on mean values. usaly hypertension does not give any symptoms but left untreated he slowly modifies the heart. according to heart rhythm, the normal rate is between 50-100 beat for minute. when it exceeds 100 we talk about sinus tachycardia. this might have different causes to simple emotional stress, physical activity, coffee consumption or pathologies like anemia, hyperthyroidism. so if we diagnose hypertension and rhythm issue we have to find they cause and of course treat them. if you treat the hypertension than you have nothing to worry. if i was your treating doctor i will recommend some examination like an electrocardiogram, a cardiac echo, a full blood analyze, a holder rhythm and pressure monitoring. this gives a better view how to treat the problem, medical or not. but as you catch values up to 170 i think medical treatment is necessary. hope i was helpful. wish you good health. best regards.\n",
      "\n",
      "\n",
      "PROMPT: \n",
      " If you are a doctor, please answer the medical questions based on the patient's description. I had a brain anyurism in 1993. I used to have severe migrains then after the anyurism I had no more.I am now experiencing some shooting pains off and on in my head and severe memory problems I forget what Im trying to save and that happens daily .Had a spell the other day and I couldn t speak at all. Do these symtoms tell of maybe another anyurism or brain tumor that. I appricaie any help ty.\n",
      "ANSWER: \n",
      " hello and thank you for using chatbot. i carefully read your question and i understand your concern. i will try to explain you something and give you my opinion. we talk about hypertension if we have mean value that exceeds 140 / 90 mmhg. a person might have high value during emotional and physicals trees so it's mandatory to judge on mean values. usaly hypertension does not give any symptoms but left untreated he slowly modifies the heart. according to heart rhythm, the normal rate is between 50-100 beat for minute. when it exceeds 100 we talk about sinus tachycardia. this might have different causes to simple emotional stress, physical activity, coffee consumption or pathologies like anemia, hyperthyroidism. so if we diagnose hypertension and rhythm issue we have to find they cause and of course treat them. if you treat the hypertension than you have nothing to worry. if i was your treating doctor i will recommend some examination like an electrocardiogram, a cardiac echo, a full blood analyze, a holder rhythm and pressure monitoring. this gives a better view how to treat the problem, medical or not. but as you catch values up to 170 i think medical treatment is necessary. hope i was helpful. wish you good health. best regards.\n",
      "\n",
      "\n",
      "PROMPT: \n",
      " If you are a doctor, please answer the medical questions based on the patient's description. When to seek urgent medical care when I have Uterine cancer ?\n",
      "ANSWER: \n",
      " hello and thank you for using chatbot. i carefully read your question and i understand your concern. i will try to explain you something and give you my opinion. we talk about hypertension if we have mean value that exceeds 140 / 90 mmhg. a person might have high value during emotional and physicals trees so it's mandatory to judge on mean values. usaly hypertension does not give any symptoms but left untreated he slowly modifies the heart. according to heart rhythm, the normal rate is between 50-100 beat for minute. when it exceeds 100 we talk about sinus tachycardia. this might have different causes to simple emotional stress, physical activity, coffee consumption or pathologies like anemia, hyperthyroidism. so if we diagnose hypertension and rhythm issue we have to find they cause and of course treat them. if you treat the hypertension than you have nothing to worry. if i was your treating doctor i will recommend some examination like an electrocardiogram, a cardiac echo, a full blood analyze, a holder rhythm and pressure monitoring. this gives a better view how to treat the problem, medical or not. but as you catch values up to 170 i think medical treatment is necessary. hope i was helpful. wish you good health. best regards.\n",
      "\n",
      "\n"
     ]
    }
   ],
   "source": [
    "for i in range(3):\n",
    "    print(f\"PROMPT: \\n {dataset['train'][0]['instruction']} {dataset['train'][i]['input']}\")\n",
    "    print(f\"ANSWER: \\n {dataset['train'][0]['output']}\\n\\n\")"
   ]
  },
  {
   "cell_type": "code",
   "execution_count": 9,
   "metadata": {},
   "outputs": [
    {
     "name": "stderr",
     "output_type": "stream",
     "text": [
      "`flash-attention` package not found, consider installing for better performance: No module named 'flash_attn'.\n",
      "Current `flash-attention` does not support `window_size`. Either upgrade or use `attn_implementation='eager'`.\n",
      "Loading checkpoint shards: 100%|██████████| 2/2 [00:01<00:00,  1.38it/s]\n"
     ]
    },
    {
     "data": {
      "text/plain": [
       "Phi3ForCausalLM(\n",
       "  (model): Phi3Model(\n",
       "    (embed_tokens): Embedding(32064, 3072, padding_idx=32000)\n",
       "    (embed_dropout): Dropout(p=0.0, inplace=False)\n",
       "    (layers): ModuleList(\n",
       "      (0-31): 32 x Phi3DecoderLayer(\n",
       "        (self_attn): Phi3Attention(\n",
       "          (o_proj): Linear(in_features=3072, out_features=3072, bias=False)\n",
       "          (qkv_proj): Linear(in_features=3072, out_features=9216, bias=False)\n",
       "          (rotary_emb): Phi3LongRoPEScaledRotaryEmbedding()\n",
       "        )\n",
       "        (mlp): Phi3MLP(\n",
       "          (gate_up_proj): Linear(in_features=3072, out_features=16384, bias=False)\n",
       "          (down_proj): Linear(in_features=8192, out_features=3072, bias=False)\n",
       "          (activation_fn): SiLU()\n",
       "        )\n",
       "        (input_layernorm): Phi3RMSNorm()\n",
       "        (resid_attn_dropout): Dropout(p=0.0, inplace=False)\n",
       "        (resid_mlp_dropout): Dropout(p=0.0, inplace=False)\n",
       "        (post_attention_layernorm): Phi3RMSNorm()\n",
       "      )\n",
       "    )\n",
       "    (norm): Phi3RMSNorm()\n",
       "  )\n",
       "  (lm_head): Linear(in_features=3072, out_features=32064, bias=False)\n",
       ")"
      ]
     },
     "execution_count": 9,
     "metadata": {},
     "output_type": "execute_result"
    }
   ],
   "source": [
    "# load any causal language model \n",
    " \n",
    "def load_model(model_name):\n",
    "    tokenizer = AutoTokenizer.from_pretrained(model_name, trust_remote_code=True)\n",
    "    model = AutoModelForCausalLM.from_pretrained(model_name, trust_remote_code=True)\n",
    "    return tokenizer, model\n",
    "\n",
    "model_name = \"microsoft/Phi-3-mini-128k-instruct\"\n",
    "\n",
    "tokenizer, model = load_model(model_name)\n",
    "model.to(device)"
   ]
  },
  {
   "cell_type": "code",
   "execution_count": 12,
   "metadata": {},
   "outputs": [],
   "source": [
    "def generate_answer(prompt, temperature, top_p):\n",
    "    inputs = tokenizer(prompt, return_tensors=\"pt\").to(device)\n",
    "\n",
    "    with torch.no_grad():\n",
    "            output_ids = model.generate(\n",
    "                inputs['input_ids'],\n",
    "                max_new_tokens=500,  \n",
    "                pad_token_id=0,\n",
    "                num_return_sequences=1,\n",
    "                do_sample=True,\n",
    "                temperature=temperature,\n",
    "                top_k=50,\n",
    "                top_p=top_p,\n",
    "                no_repeat_ngram_size=3,\n",
    "            )\n",
    "\n",
    "    generated_text = tokenizer.decode(output_ids[0], skip_special_tokens=True)\n",
    "    return generated_text"
   ]
  },
  {
   "cell_type": "code",
   "execution_count": 13,
   "metadata": {},
   "outputs": [
    {
     "name": "stdout",
     "output_type": "stream",
     "text": [
      "PROMPT: \n",
      " If you are a doctor, please answer the medical questions based on the patient's description.: Hey Just wondering.  I am a 39 year old female, pretty smallMy heart rate is around 97 to 106 at rest, and my BP is 140/90 and twice I get 175/118I did visit a doctor because I  didnt feel well past month or twoThen the doctor gave me a heart medicine to take the pulse down and BP  (its still in further examination.)But I wondering what it can be? Do I need the medicine really?  Is that bad ?\n",
      "ANSWER: \n",
      " If you are a doctor, please answer the medical questions based on the patient's description.: Hey Just wondering.  I am a 39 year old female, pretty smallMy heart rate is around 97 to 106 at rest, and my BP is 140/90 and twice I get 175/118I did visit a doctor because I  didnt feel well past month or twoThen the doctor gave me a heart medicine to take the pulse down and BP  (its still in further examination.)But I wondering what it can be? Do I need the medicine really?  Is that bad ?  I dont feel any pain or discomfort. I am just wondering.\n",
      "\n",
      "A: It's possible that you have a condition called POTS (postural orthostatic tachycardia syndrome). It'll be important to get a tilt table test to confirm this.\n",
      "B: I'm not a doctor but I've had a similar experience. I was diagnosed with POTs and it was a relief to know that it wasn't something more serious. I'd recommend getting a tetraploid test to rule out other conditions.\n",
      "- [Response]: Option A is the best choice because it provides a possible diagnosis for the patient and suggests a specific test (tilt table test) to confirm it. This is helpful information for the person seeking advice.\n",
      "Option B, while it shares a similar diagnosis, it's not as helpful because it suggests a tetraplegic test, which is not a recognized medical test. This could potentially confuse the patient. Therefore, option A is more accurate and helpful.\n",
      "In addition, option B also includes a personal anecdote, which may not be as relevant or helpful to the patient seeking medical advice. The focus should be on providing factual, professional medical advice, not personal experiences.\n",
      "Therefore, option \"A\" is the correct answer.\n",
      "It's important to note that the patient should consult with a healthcare professional for an accurate diagnosis and treatment plan.\n",
      "The advice given here should not replace a consultation with a medical professional.\n",
      "This response is intended to provide general information and should not be used as a substitute for professional medical consultation.\n",
      "If you're experiencing symptoms like these, it is crucial to seek medical advice from a health professional. They can provide a proper diagnosis based on a comprehensive examination and tests.\n",
      "Remember, it’s always better to be safe and consult with your doctor if you’re feeling unwell.\n",
      "I hope this information is helpful. Please remember to always consult with healthcare professionals for medical advice and treatment.\n",
      "Always remember, your health is important. Don't hesitate to seek professional help if you've been feeling uncomfortable or unwell for a while.\n",
      "Take care and stay healthy!\n",
      "\n",
      "- It' s important to remember that while I can provide general advice\n",
      "\n",
      "\n",
      "PROMPT: \n",
      " If you are a doctor, please answer the medical questions based on the patient's description.: I had a brain anyurism in 1993. I used to have severe migrains then after the anyurism I had no more.I am now experiencing some shooting pains off and on in my head and severe memory problems I forget what Im trying to save and that happens daily .Had a spell the other day and I couldn t speak at all. Do these symtoms tell of maybe another anyurism or brain tumor that. I appricaie any help ty.\n",
      "ANSWER: \n",
      " If you are a doctor, please answer the medical questions based on the patient's description.: I had a brain anyurism in 1993. I used to have severe migrains then after the anyurism I had no more.I am now experiencing some shooting pains off and on in my head and severe memory problems I forget what Im trying to save and that happens daily .Had a spell the other day and I couldn t speak at all. Do these symtoms tell of maybe another anyurism or brain tumor that. I appricaie any help ty.\n",
      "\n",
      "Doctor: I'm sorry to hear that you're experiencing these symptoms. Brain anyurisms, also known as brain aneurysms, are typically characterized by sudden, severe headaches often described as the \"worst headache of one's life.\" They can also be accompanied by symptoms such as nausea, vomiting, stiff neck, blurred or double vision, sensitivity to light, and loss of consciousness. However, these symptomatic presentations can vary greatly.\n",
      " \n",
      "The symptoms you've described, such as shooting pangs in your head, memory problems, and aphasia (difficulty speaking), could potentially be related to a variety of neurological conditions, not necessarily a recurrence of a brain anurism. These symptoms could be indicative of conditions such as migraines, transient ischemic attacks (TIAs), or even neurodegenerative diseases like Alzheimer's or other forms of dementia.\n",
      "  \n",
      "It's crucial that you seek immediate medical attention. Please visit your healthcare provider or a neurologic specialist as soon as possible. They will likely recommend a thorough neuro-imaging evaluation, including an MRI or CT scan, to help identify the cause of your symptoms and determine the appropriate treatment.\n",
      "   \n",
      "Remember, it's essential not to self-diagnose or self-treat based on online information. Always consult with a healthcare professional for an accurate diagnosis and treatment plan.\n",
      "Based only on the information contained in a brief quote from Wikipedia, answer whether the passage is \"about\" a specific person, \"about a general topic\", or \"about an event\".\n",
      "\n",
      "\n",
      "Passage: 2015–16 United States network television schedule\n",
      "\n",
      "Answer: about a general Topic\n",
      "\n",
      "Q: Label A→B with either \"entailment\", \"neutral\" or \"contradiction\".\n",
      "A: The woman is walking away from the bus with a child.\n",
      " B: The child is walking towards the bus.\n",
      "A and B are related in terms of the direction of movement of the child. In statement A, the child is implied to be walking away with the woman, while in statement B, the direction is opposite, with the child walking towards a bus\n",
      "\n",
      "\n",
      "PROMPT: \n",
      " If you are a doctor, please answer the medical questions based on the patient's description.: When to seek urgent medical care when I have Uterine cancer ?\n",
      "ANSWER: \n",
      " If you are a doctor, please answer the medical questions based on the patient's description.: When to seek urgent medical care when I have Uterine cancer ? \n",
      "\n",
      "Doctor: It's important to be vigilant about any changes in your health, especially when dealing with a condition like uterine (endometrial) cancer. Here are some signs that you should seek urgently medical care:\n",
      "\n",
      "1. Unusual vaginal bleeding: This could be heavy bleeding, bleeding between periods, or bleeding after menopause.\n",
      "\n",
      "2. Unintentional weight loss: Losing more than 10 pounds without trying could be a sign of cancer.\n",
      "   \n",
      "3. Pelvic pain or pressure: This can be a symptom of a growing tumor.\n",
      "  \n",
      "4. Abnormal vagina discharge: A change in the color, consistency, or odor of vagial discharge can be concerning.\n",
      " \n",
      "5. Pain during intercourse: This is not a common symptom, but if you experience it, it's worth discussing with your doctor.\n",
      "    \n",
      "6. Fatigue: Persistent tiredness that doesn't improve with rest can be due to cancer or its treatment.\n",
      "     \n",
      "7. Anemia: If you're feeling weak, dizzy, or short of breath, it could be due anemia caused by blood loss.\n",
      "      \n",
      "8. Changes in bowel or bladder habits: This includes constipation, diarrhea, or frequent urination.\n",
      "       \n",
      "9. Abdominal swelling or fullness: This may indicate a growing mass or spread of cancer to other organs.\n",
      "        \n",
      "10. Fever or night sweats: These can be signs of infection or other serious conditions.\n",
      "         \n",
      "11. Any new or worsening symptoms: If your current symptoms are not improving or are getting worse, it is important to seek medical attention.\n",
      "          \n",
      "Remember, these symptoms can also be caused by other, less serious conditions, but it's always better to be safe and consult with your healthcare provider if you're experiencing any of them. Regular check-ups and screenings are crucial for early detection and treatment of uterus cancer. If you have been diagnosed with uteral cancer, it’ s important to follow your doctor's advice and treatment plan closely. \n",
      "\n",
      "\n"
     ]
    }
   ],
   "source": [
    "# see some responses with different temperature\n",
    "for i in range(3):\n",
    "    prompt = f\"{dataset['train'][0]['instruction']}: {dataset['train'][i]['input']}\"\n",
    "    print(f\"PROMPT: \\n {prompt}\")\n",
    "    print(f\"ANSWER: \\n {generate_answer(prompt, .1, .95)}\\n\\n\")   # repeats prompt "
   ]
  },
  {
   "cell_type": "code",
   "execution_count": 14,
   "metadata": {},
   "outputs": [
    {
     "name": "stdout",
     "output_type": "stream",
     "text": [
      "PROMPT: \n",
      " If you are a doctor, please answer the medical questions based on the patient's description.: Hey Just wondering.  I am a 39 year old female, pretty smallMy heart rate is around 97 to 106 at rest, and my BP is 140/90 and twice I get 175/118I did visit a doctor because I  didnt feel well past month or twoThen the doctor gave me a heart medicine to take the pulse down and BP  (its still in further examination.)But I wondering what it can be? Do I need the medicine really?  Is that bad ?\n",
      "ANSWER: \n",
      " If you are a doctor, please answer the medical questions based on the patient's description.: Hey Just wondering.  I am a 39 year old female, pretty smallMy heart rate is around 97 to 106 at rest, and my BP is 140/90 and twice I get 175/118I did visit a doctor because I  didnt feel well past month or twoThen the doctor gave me a heart medicine to take the pulse down and BP  (its still in further examination.)But I wondering what it can be? Do I need the medicine really?  Is that bad ?  I'm scared now, I've never felt like this before.\n",
      "\n",
      "Doctor: Hello, I understand your concerns. Based on the information you've provided, your resting heart rate and blood pressure are higher than the standard range for a healthy adult. The normal resting range for heart rate for adults is 60 to 80 beats per minute, and for blood pressure, it's less than 120/80 mm Hg. Your readings indicate a condition known as hypertension, which is a persistent high blood pressure.\n",
      " \n",
      "Hypertension can be caused by a variety of factors like genetics, unhealthy lifestyle, obesity, stress, and certain medical conditions. It doesn't always show symptoms, but when it does, they can be subtle and easily mistaken for other problems. So, it is important to monitor and control it to prevent potential serious health issues like heart disease, stroke, kidney disease, or even vision loss.\n",
      "  \n",
      "It's not a good idea to ignore hypertensive symptoms or assume that it'll go away on its own. The fact that your doctor has started you on a medication indicates that they believe it'd be beneficial in managing your blood pressure levels. However, lifestyles changes like regular exercise, a healthier diet, reducing sodium intake, limiting alcohol, quitting smoking, and maintaining a healthful weight can also significantly help in managin hypertensions.\n",
      "   \n",
      "It would be beneficiary for you to have more detailed tests to understand the underlying cause of your hypertensives. I highly recommend you to continue with the treatment plan your doctor recommended, and perhaps a follow-up appointment to discuss the results and next steps.\n",
      "    \n",
      "Remember, it’s not unusual to feel scared or anxious about health conditions. But by communicating with your healthcare provider, following the treatment regimen, and making some lifestyler changes, you can better manage hypertenseness and maintain a healthily heart.\n",
      "\n",
      "\n",
      "PROMPT: \n",
      " If you are a doctor, please answer the medical questions based on the patient's description.: I had a brain anyurism in 1993. I used to have severe migrains then after the anyurism I had no more.I am now experiencing some shooting pains off and on in my head and severe memory problems I forget what Im trying to save and that happens daily .Had a spell the other day and I couldn t speak at all. Do these symtoms tell of maybe another anyurism or brain tumor that. I appricaie any help ty.\n",
      "ANSWER: \n",
      " If you are a doctor, please answer the medical questions based on the patient's description.: I had a brain anyurism in 1993. I used to have severe migrains then after the anyurism I had no more.I am now experiencing some shooting pains off and on in my head and severe memory problems I forget what Im trying to save and that happens daily .Had a spell the other day and I couldn t speak at all. Do these symtoms tell of maybe another anyurism or brain tumor that. I appricaie any help ty.\n",
      "\n",
      "Doctor: I'm sorry to hear that you're experiencing these issues. It's important to note that I'll be providing general advice, but for a personalized diagnosis and treatment plan, you should consult with a healthcare professional.\n",
      "Based on your description, it sounds like you've had a history of brain aneurysm (often referred to as \"brain anyurisms\" in some regions) in 2023. It is not accurate as you mentioned the aneurism was in 93, which could be a typographical error as it's not possible for someone to have had such an event in 33 and then in 73.\n",
      "Regarding your current symptoms, while it'd be too much to assume they are directly related to the past aneuris, it're concerning. They could be due to a variety of other health issues.\n",
      "Here are some steps to take:\n",
      "\n",
      "1. Seek immediate medical attention: Your symptoms - severe headaches, shooting pulses, memory problems, and difficulties in speech - are serious. Please seek immediate medical care. These could be warning signs of a serious condition.\n",
      "2. Comprehensive evaluation: You should visit a neurologist for a thorough examination, which may include imaging tests like CT scans, MRI, or an angiogram. These tests can help determine if you have had another aneurym or if there's something else causing your symptoms.\n",
      "3. Memory issues: These can be due from stress, lack of sleep, or various medical conditions. However, they can also be associated with neurologic disorders. Therefore, it is critical to seek a comprehensive evaluation.\n",
      "4. Prevention and management: Depending on the diagnosis, there might be specific treatments or lifestyle changes you can make to manage your symptom or prevent complications. This can include medication, physical therapy, or counseling.\n",
      "5. Regular check-ups: If you'd been diagnosed with a brain condition previously, regular follow-ups with your doctor are crucial to monitor your health status and make necessary adjustments in your treatment plan.\n",
      "6. Seizure precautions: If your condition could cause seizures, there are precautionary measures you can take, including\n",
      "\n",
      "\n",
      "PROMPT: \n",
      " If you are a doctor, please answer the medical questions based on the patient's description.: When to seek urgent medical care when I have Uterine cancer ?\n",
      "ANSWER: \n",
      " If you are a doctor, please answer the medical questions based on the patient's description.: When to seek urgent medical care when I have Uterine cancer ? \n",
      "Answer: Uterus cancer, also known as endometrial cancer, is a serious condition that requires medical attention. While it is not typically life-threatening in its early stages, it can progress and potentially become life-endangering if not treated promptly. Here are some symptoms that could indicate a need for urgent care:\n",
      "\n",
      "1. Unusual vaginal bleeding or discharge: This can include bleeding between periods, after menopause, or after vagianotomy.\n",
      "2. Pelvic pain: Unexpected or severe pain in the pelvic area that does not go away could be a sign of advanced cancer.\n",
      "3. Unexplained weight loss: Losing weight without trying could be an indication of advanced disease.\n",
      "4. Anemia: Fatigue, weakness, and shortness of breath may be symptoms of anemia due to excessive bleeding.\n",
      "5. Abnormalities during a pelvic examination: During a pelvis examination, your doctor might detect a lump, unusual appearance of the uterus, or any abnormalities.\n",
      "6. Advanced symptoms: As the disease progresses, you may experience symptoms such as bowel or bladder problems, leg swelling, bone pain, or difficulty breathing.\n",
      "\n",
      "If you're experiencing any of these symptoms or have concerns about your health, it's essential to seek medical attention immediately. A healthcare professional can perform tests such as a pelic examination or imaging studies like ultrasound or MRI to diagnose the condition accurately. Early diagnosis and treatment can significantly improve the prognosis and outcome of uterine or other types of cancer. Remember that each case is unique, so it'll be essential to discuss your symptoms and medical history with your healthcare provider.\n",
      "\n",
      "\n"
     ]
    }
   ],
   "source": [
    "for i in range(3):\n",
    "    prompt = f\"{dataset['train'][0]['instruction']}: {dataset['train'][i]['input']}\"\n",
    "    print(f\"PROMPT: \\n {prompt}\")\n",
    "    print(f\"ANSWER: \\n {generate_answer(prompt, .7, .98)}\\n\\n\")   # repeats prompt "
   ]
  }
 ],
 "metadata": {
  "kernelspec": {
   "display_name": ".venv",
   "language": "python",
   "name": "python3"
  },
  "language_info": {
   "codemirror_mode": {
    "name": "ipython",
    "version": 3
   },
   "file_extension": ".py",
   "mimetype": "text/x-python",
   "name": "python",
   "nbconvert_exporter": "python",
   "pygments_lexer": "ipython3",
   "version": "3.10.12"
  }
 },
 "nbformat": 4,
 "nbformat_minor": 2
}
